{
 "cells": [
  {
   "cell_type": "code",
   "execution_count": 1,
   "id": "c802b581",
   "metadata": {},
   "outputs": [],
   "source": [
    "import requests\n",
    "import bs4\n",
    "from bs4 import BeautifulSoup\n",
    "import pandas as pd\n",
    "import time\n",
    "import re\n",
    "import sys\n",
    "import random\n",
    "from fake_useragent import UserAgent"
   ]
  },
  {
   "cell_type": "code",
   "execution_count": 10,
   "id": "ac06c9c6",
   "metadata": {},
   "outputs": [],
   "source": [
    "def get_job_df(base_link,positions):\n",
    "    \n",
    "    df = pd.DataFrame()\n",
    "    url_temp = base_link + \"/jobs?q={}&start={}\"\n",
    "    api_url = base_link + \"/viewjob?jk={}\"\n",
    "    ua = UserAgent()\n",
    "    results_per_position=200\n",
    "    for position in positions:\n",
    "        \n",
    "        print('----------------\\nSearching for ',position.replace('+',' '))\n",
    "        \n",
    "        for start in range(0,results_per_position+10,10):\n",
    "            user_agent = ua.random\n",
    "            headers = {\"User-Agent\": str(user_agent)}\n",
    "            url=url_temp.format(position,start)\n",
    "            r=requests.get(url,headers=headers)\n",
    "            soup=BeautifulSoup(r.text,\"html.parser\")    \n",
    "            print(\"\\r\", end=\"\")\n",
    "            print(\"Progress: {}%: \".format(start*100//results_per_position), \"▋\" * (start*100//results_per_position // 2), end=\"\")\n",
    "            sys.stdout.flush()\n",
    "            \n",
    "            for i in soup.find_all('a',href=re.compile(\"/rc/clk|/company/\")):\n",
    "                # if tag has attribute of class\n",
    "                job_link = base_link+i['href']\n",
    "                time.sleep(random.randrange(3, 7, 1))\n",
    "                r_req=requests.get(job_link,headers=headers)\n",
    "                soup_req=BeautifulSoup(r_req.text,\"html.parser\") \n",
    "                try:\n",
    "                    title=soup_req.find('h1',{'class': 'icl-u-xs-mb--xs icl-u-xs-mt--none jobsearch-JobInfoHeader-title'}).text\n",
    "                except:\n",
    "                    continue\n",
    "                try:\n",
    "                    location=i.find('div',{'class':'companyLocation'}).text\n",
    "                except:\n",
    "                    location='Unknown'\n",
    "                try:\n",
    "                    company=soup_req.find('div',{'class':'icl-u-lg-mr--sm icl-u-xs-mr--xs'},string=True).text\n",
    "                except:\n",
    "                    continue\n",
    "                try:\n",
    "                    desc=soup_req.find('div',{'class':'jobsearch-jobDescriptionText'}).text\n",
    "                except:\n",
    "                    continue\n",
    "                df = df.append({\"search_position\":position.replace('+',' '), \"job_location\":location, \"job_title\":title, \"company\":company, \"job_description\":desc, \"job_link\":job_link},\n",
    "                               ignore_index=True)\n",
    "                \n",
    "            time.sleep(random.randrange(10, 20, 1))\n",
    "        print()\n",
    "                \n",
    "    print(\"===================\\nWeb Scraping Complete!\")\n",
    "    return df"
   ]
  },
  {
   "cell_type": "code",
   "execution_count": null,
   "id": "bbe155e9",
   "metadata": {},
   "outputs": [],
   "source": [
    "ca_base_link=\"https://ca.indeed.com\""
   ]
  },
  {
   "cell_type": "code",
   "execution_count": null,
   "id": "1c465c14",
   "metadata": {},
   "outputs": [],
   "source": [
    "positions=['Data+Scientist']\n",
    "df_ca_ds = get_job_df(ca_base_link,positions=positions)"
   ]
  },
  {
   "cell_type": "code",
   "execution_count": null,
   "id": "12ffc5e7",
   "metadata": {},
   "outputs": [],
   "source": [
    "df_ca_ds.to_csv(\"CA-Indeed-DS.csv\")"
   ]
  },
  {
   "cell_type": "code",
   "execution_count": null,
   "id": "40b0c4d0",
   "metadata": {},
   "outputs": [],
   "source": [
    "df_ca_da = get_job_df(ca_base_link,positions=['Data+Analyst'])"
   ]
  },
  {
   "cell_type": "code",
   "execution_count": null,
   "id": "b68d3928",
   "metadata": {},
   "outputs": [],
   "source": [
    "df_ca_da.to_csv(\"CA-Indeed-DA.csv\")"
   ]
  },
  {
   "cell_type": "code",
   "execution_count": null,
   "id": "18a2348c",
   "metadata": {},
   "outputs": [],
   "source": [
    "df_ca_dm = get_job_df(ca_base_link,positions=['Data+Manager'])"
   ]
  },
  {
   "cell_type": "code",
   "execution_count": null,
   "id": "32499c2a",
   "metadata": {
    "scrolled": true
   },
   "outputs": [],
   "source": [
    "df_ca_dm"
   ]
  },
  {
   "cell_type": "code",
   "execution_count": null,
   "id": "923bd634",
   "metadata": {},
   "outputs": [],
   "source": [
    "df_ca_dm.to_csv(\"CA-Indeed-DM.csv\")"
   ]
  },
  {
   "cell_type": "code",
   "execution_count": 9,
   "id": "43abfaee",
   "metadata": {
    "scrolled": false
   },
   "outputs": [
    {
     "name": "stdout",
     "output_type": "stream",
     "text": [
      "----------------\n",
      "Searching for  Data Scientist\n",
      "Progress: 100%:  ▋▋▋▋▋▋▋▋▋▋▋▋▋▋▋▋▋▋▋▋▋▋▋▋▋▋▋▋▋▋▋▋▋▋▋▋▋▋▋▋▋▋▋▋▋▋▋▋▋▋\n",
      "===================\n",
      "Web Scraping Complete!\n"
     ]
    }
   ],
   "source": [
    "us_base_link=\"https://www.indeed.com\"\n",
    "positions=['Data+Scientist']\n",
    "df_us = get_job_df(us_base_link,positions=positions)"
   ]
  },
  {
   "cell_type": "code",
   "execution_count": 11,
   "id": "0579ab49",
   "metadata": {
    "scrolled": true
   },
   "outputs": [
    {
     "data": {
      "text/html": [
       "<div>\n",
       "<style scoped>\n",
       "    .dataframe tbody tr th:only-of-type {\n",
       "        vertical-align: middle;\n",
       "    }\n",
       "\n",
       "    .dataframe tbody tr th {\n",
       "        vertical-align: top;\n",
       "    }\n",
       "\n",
       "    .dataframe thead th {\n",
       "        text-align: right;\n",
       "    }\n",
       "</style>\n",
       "<table border=\"1\" class=\"dataframe\">\n",
       "  <thead>\n",
       "    <tr style=\"text-align: right;\">\n",
       "      <th></th>\n",
       "      <th>company</th>\n",
       "      <th>job_description</th>\n",
       "      <th>job_link</th>\n",
       "      <th>job_location</th>\n",
       "      <th>job_title</th>\n",
       "      <th>search_position</th>\n",
       "    </tr>\n",
       "  </thead>\n",
       "  <tbody>\n",
       "    <tr>\n",
       "      <th>0</th>\n",
       "      <td>Flipped.ai</td>\n",
       "      <td>Data Scientists - Positions located in New Yor...</td>\n",
       "      <td>https://www.indeed.com/company/Flipped.ai/jobs...</td>\n",
       "      <td>New York, NY</td>\n",
       "      <td>Data Scientist</td>\n",
       "      <td>Data Scientist</td>\n",
       "    </tr>\n",
       "    <tr>\n",
       "      <th>1</th>\n",
       "      <td>Gap Inc.</td>\n",
       "      <td>About Gap Inc.\\nOur brands bridge the gaps we ...</td>\n",
       "      <td>https://www.indeed.com/rc/clk?jk=f3cd2dc1b9455...</td>\n",
       "      <td>San Francisco, CA 94105 94105 (Financial Distr...</td>\n",
       "      <td>Associate Data Scientist</td>\n",
       "      <td>Data Scientist</td>\n",
       "    </tr>\n",
       "    <tr>\n",
       "      <th>2</th>\n",
       "      <td>Binare Tech</td>\n",
       "      <td>Job Description: Design, build, test and integ...</td>\n",
       "      <td>https://www.indeed.com/company/Binare-Tech/job...</td>\n",
       "      <td>Tampa, FL</td>\n",
       "      <td>Data Scientist</td>\n",
       "      <td>Data Scientist</td>\n",
       "    </tr>\n",
       "    <tr>\n",
       "      <th>3</th>\n",
       "      <td>Avenue Code</td>\n",
       "      <td>Avenue Code is the leading software consultanc...</td>\n",
       "      <td>https://www.indeed.com/rc/clk?jk=4723b2f77a1d6...</td>\n",
       "      <td>Remote</td>\n",
       "      <td>Data Scientist</td>\n",
       "      <td>Data Scientist</td>\n",
       "    </tr>\n",
       "    <tr>\n",
       "      <th>4</th>\n",
       "      <td>ArthurPaige</td>\n",
       "      <td>ArthurPaige is looking for a Data Scientist wi...</td>\n",
       "      <td>https://www.indeed.com/company/ArthurPaige/job...</td>\n",
       "      <td>Fort Meade, MD</td>\n",
       "      <td>Senior Data Scientist</td>\n",
       "      <td>Data Scientist</td>\n",
       "    </tr>\n",
       "    <tr>\n",
       "      <th>...</th>\n",
       "      <td>...</td>\n",
       "      <td>...</td>\n",
       "      <td>...</td>\n",
       "      <td>...</td>\n",
       "      <td>...</td>\n",
       "      <td>...</td>\n",
       "    </tr>\n",
       "    <tr>\n",
       "      <th>125</th>\n",
       "      <td>Balyasny</td>\n",
       "      <td>Balyasny Asset Management is seeking a Junior ...</td>\n",
       "      <td>https://www.indeed.com/company/Balyasny-Asset-...</td>\n",
       "      <td>New York, NY</td>\n",
       "      <td>Junior Data Scientist - BAM Elevate</td>\n",
       "      <td>Data Scientist</td>\n",
       "    </tr>\n",
       "    <tr>\n",
       "      <th>126</th>\n",
       "      <td>Neocortex Inc</td>\n",
       "      <td>We are an enterprise consulting company that p...</td>\n",
       "      <td>https://www.indeed.com/company/NeoCortex-Inc/j...</td>\n",
       "      <td>Fremont, CA 94538 94538 (Downtown area)</td>\n",
       "      <td>SAP S/4 HANA Developer with interest in Data S...</td>\n",
       "      <td>Data Scientist</td>\n",
       "    </tr>\n",
       "    <tr>\n",
       "      <th>127</th>\n",
       "      <td>Phaidra</td>\n",
       "      <td>This job is 100% remote - work from anywhere i...</td>\n",
       "      <td>https://www.indeed.com/rc/clk?jk=be093e5b8d453...</td>\n",
       "      <td>Remote in Seattle, WA 98103 98103</td>\n",
       "      <td>Data Scientist - Solutions (remote)</td>\n",
       "      <td>Data Scientist</td>\n",
       "    </tr>\n",
       "    <tr>\n",
       "      <th>128</th>\n",
       "      <td>Data Xpander</td>\n",
       "      <td>Email at hr@dataxpander.com\\nThey need to have...</td>\n",
       "      <td>https://www.indeed.com/rc/clk?jk=cdaa9e9635b32...</td>\n",
       "      <td>Irving, TX</td>\n",
       "      <td>Data Scientist</td>\n",
       "      <td>Data Scientist</td>\n",
       "    </tr>\n",
       "    <tr>\n",
       "      <th>129</th>\n",
       "      <td>AjaxMinerals</td>\n",
       "      <td>JOB SUMMARY &amp; RESPONSIBILITIES:Analyze structu...</td>\n",
       "      <td>https://www.indeed.com/company/AjaxMinerals/jo...</td>\n",
       "      <td>Chicago, IL 60654 60654 (River North area)</td>\n",
       "      <td>Data Scientist</td>\n",
       "      <td>Data Scientist</td>\n",
       "    </tr>\n",
       "  </tbody>\n",
       "</table>\n",
       "<p>130 rows × 6 columns</p>\n",
       "</div>"
      ],
      "text/plain": [
       "           company                                    job_description  \\\n",
       "0       Flipped.ai  Data Scientists - Positions located in New Yor...   \n",
       "1         Gap Inc.  About Gap Inc.\\nOur brands bridge the gaps we ...   \n",
       "2      Binare Tech  Job Description: Design, build, test and integ...   \n",
       "3      Avenue Code  Avenue Code is the leading software consultanc...   \n",
       "4      ArthurPaige  ArthurPaige is looking for a Data Scientist wi...   \n",
       "..             ...                                                ...   \n",
       "125       Balyasny  Balyasny Asset Management is seeking a Junior ...   \n",
       "126  Neocortex Inc  We are an enterprise consulting company that p...   \n",
       "127        Phaidra  This job is 100% remote - work from anywhere i...   \n",
       "128   Data Xpander  Email at hr@dataxpander.com\\nThey need to have...   \n",
       "129   AjaxMinerals  JOB SUMMARY & RESPONSIBILITIES:Analyze structu...   \n",
       "\n",
       "                                              job_link  \\\n",
       "0    https://www.indeed.com/company/Flipped.ai/jobs...   \n",
       "1    https://www.indeed.com/rc/clk?jk=f3cd2dc1b9455...   \n",
       "2    https://www.indeed.com/company/Binare-Tech/job...   \n",
       "3    https://www.indeed.com/rc/clk?jk=4723b2f77a1d6...   \n",
       "4    https://www.indeed.com/company/ArthurPaige/job...   \n",
       "..                                                 ...   \n",
       "125  https://www.indeed.com/company/Balyasny-Asset-...   \n",
       "126  https://www.indeed.com/company/NeoCortex-Inc/j...   \n",
       "127  https://www.indeed.com/rc/clk?jk=be093e5b8d453...   \n",
       "128  https://www.indeed.com/rc/clk?jk=cdaa9e9635b32...   \n",
       "129  https://www.indeed.com/company/AjaxMinerals/jo...   \n",
       "\n",
       "                                          job_location  \\\n",
       "0                                         New York, NY   \n",
       "1    San Francisco, CA 94105 94105 (Financial Distr...   \n",
       "2                                            Tampa, FL   \n",
       "3                                               Remote   \n",
       "4                                       Fort Meade, MD   \n",
       "..                                                 ...   \n",
       "125                                       New York, NY   \n",
       "126            Fremont, CA 94538 94538 (Downtown area)   \n",
       "127                  Remote in Seattle, WA 98103 98103   \n",
       "128                                         Irving, TX   \n",
       "129         Chicago, IL 60654 60654 (River North area)   \n",
       "\n",
       "                                             job_title search_position  \n",
       "0                                       Data Scientist  Data Scientist  \n",
       "1                             Associate Data Scientist  Data Scientist  \n",
       "2                                       Data Scientist  Data Scientist  \n",
       "3                                       Data Scientist  Data Scientist  \n",
       "4                                Senior Data Scientist  Data Scientist  \n",
       "..                                                 ...             ...  \n",
       "125                Junior Data Scientist - BAM Elevate  Data Scientist  \n",
       "126  SAP S/4 HANA Developer with interest in Data S...  Data Scientist  \n",
       "127                Data Scientist - Solutions (remote)  Data Scientist  \n",
       "128                                     Data Scientist  Data Scientist  \n",
       "129                                     Data Scientist  Data Scientist  \n",
       "\n",
       "[130 rows x 6 columns]"
      ]
     },
     "execution_count": 11,
     "metadata": {},
     "output_type": "execute_result"
    }
   ],
   "source": [
    "df_us"
   ]
  },
  {
   "cell_type": "code",
   "execution_count": null,
   "id": "061613c1",
   "metadata": {},
   "outputs": [],
   "source": [
    "df_us.to_csv(\"US-Indeed.csv\")"
   ]
  }
 ],
 "metadata": {
  "kernelspec": {
   "display_name": "Python 3",
   "language": "python",
   "name": "python3"
  },
  "language_info": {
   "codemirror_mode": {
    "name": "ipython",
    "version": 3
   },
   "file_extension": ".py",
   "mimetype": "text/x-python",
   "name": "python",
   "nbconvert_exporter": "python",
   "pygments_lexer": "ipython3",
   "version": "3.8.8"
  }
 },
 "nbformat": 4,
 "nbformat_minor": 5
}
